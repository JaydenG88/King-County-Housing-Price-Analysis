{
 "cells": [
  {
   "cell_type": "code",
   "execution_count": 77,
   "metadata": {},
   "outputs": [],
   "source": [
    "import pandas as pd\n",
    "import numpy as np\n",
    "\n",
    "df = pd.read_csv(\"data/listings_data.csv\")"
   ]
  },
  {
   "cell_type": "code",
   "execution_count": 78,
   "metadata": {},
   "outputs": [
    {
     "name": "stdout",
     "output_type": "stream",
     "text": [
      "Initial Data Sample:\n",
      "\n",
      "     sqft   price  price/sqft      zip    city state      street_address  \\\n",
      "0  1240.0  525000  423.387097  98001.0  Algona    WA  1036 Algona Blvd N   \n",
      "1  1140.0  475000  416.666667  98001.0  Algona    WA      707 Celery Ave   \n",
      "2  1310.0  470000  358.778626  98001.0  Algona    WA         512 Main St   \n",
      "3  1680.0  500000  297.619048  98001.0  Algona    WA       221 2nd Ave N   \n",
      "4     NaN  660000         NaN  98001.0  Algona    WA       515 4th Ave N   \n",
      "\n",
      "   bedrooms  bathrooms                                                url  \\\n",
      "0       4.0        4.0  https://www.redfin.com/WA/Algona/1036-Algona-B...   \n",
      "1       3.0        3.0  https://www.redfin.com/WA/Algona/707-Celery-Av...   \n",
      "2       4.0        4.0  https://www.redfin.com/WA/Algona/512-Main-St-9...   \n",
      "3       4.0        4.0  https://www.redfin.com/WA/Algona/221-2nd-Ave-N...   \n",
      "4       NaN        NaN  https://www.redfin.com/WA/Algona/515-4th-Ave-N...   \n",
      "\n",
      "                                                 img  \n",
      "0  https://ssl.cdn-redfin.com/photo/1/islphoto/11...  \n",
      "1  https://ssl.cdn-redfin.com/photo/1/islphoto/29...  \n",
      "2  https://ssl.cdn-redfin.com/photo/1/islphoto/21...  \n",
      "3  https://ssl.cdn-redfin.com/photo/1/islphoto/16...  \n",
      "4  https://ssl.cdn-redfin.com/photo/1/islphoto/20...  \n",
      "\n",
      "Dataset Overview:\n",
      "\n",
      "<class 'pandas.core.frame.DataFrame'>\n",
      "RangeIndex: 3088 entries, 0 to 3087\n",
      "Data columns (total 11 columns):\n",
      " #   Column          Non-Null Count  Dtype  \n",
      "---  ------          --------------  -----  \n",
      " 0   sqft            2754 non-null   float64\n",
      " 1   price           3088 non-null   object \n",
      " 2   price/sqft      2754 non-null   float64\n",
      " 3   zip             3086 non-null   float64\n",
      " 4   city            3086 non-null   object \n",
      " 5   state           3086 non-null   object \n",
      " 6   street_address  3088 non-null   object \n",
      " 7   bedrooms        2745 non-null   float64\n",
      " 8   bathrooms       2745 non-null   float64\n",
      " 9   url             3088 non-null   object \n",
      " 10  img             3071 non-null   object \n",
      "dtypes: float64(5), object(6)\n",
      "memory usage: 265.5+ KB\n",
      "None\n",
      "\n",
      "Descriptive Statistics:\n",
      "\n",
      "               sqft   price/sqft           zip     bedrooms    bathrooms\n",
      "count   2754.000000  2754.000000   3086.000000  2745.000000  2745.000000\n",
      "mean    2216.454611   530.742554  98057.690862     3.307104     3.307104\n",
      "std     1549.633388   362.610528     73.266249     1.555123     1.555123\n",
      "min      317.000000    18.172727  98001.000000     0.000000     0.000000\n",
      "25%     1248.500000   352.072893  98019.000000     2.000000     2.000000\n",
      "50%     1870.000000   451.977401  98034.000000     3.000000     3.000000\n",
      "75%     2732.250000   595.780702  98072.000000     4.000000     4.000000\n",
      "max    30036.000000  6352.087114  99809.000000    36.000000    36.000000\n",
      "\n",
      "Checking for Missing Values:\n",
      "\n",
      "sqft              334\n",
      "price               0\n",
      "price/sqft        334\n",
      "zip                 2\n",
      "city                2\n",
      "state               2\n",
      "street_address      0\n",
      "bedrooms          343\n",
      "bathrooms         343\n",
      "url                 0\n",
      "img                17\n",
      "dtype: int64\n"
     ]
    }
   ],
   "source": [
    "print(\"Initial Data Sample:\\n\")\n",
    "print(df.head())\n",
    "\n",
    "print(\"\\nDataset Overview:\\n\")\n",
    "print(df.info())\n",
    "\n",
    "print(\"\\nDescriptive Statistics:\\n\")\n",
    "print(df.describe())\n",
    "\n",
    "print(\"\\nChecking for Missing Values:\\n\")\n",
    "print(df.isnull().sum())\n"
   ]
  },
  {
   "cell_type": "code",
   "execution_count": 79,
   "metadata": {},
   "outputs": [],
   "source": [
    "df[[\"price\", \"sqft\"]] = df[[\"price\", \"sqft\"]].replace(\"Unknown\", np.nan)\n",
    "df[\"zip\"].fillna(\"\")\n",
    "df = df.dropna(subset=[\"price\", \"sqft\"], how=\"all\")\n",
    "df = df.drop_duplicates()"
   ]
  },
  {
   "cell_type": "code",
   "execution_count": 80,
   "metadata": {},
   "outputs": [],
   "source": [
    "df[\"city\"] = df[\"city\"].str.title().str.strip()\n",
    "df[\"state\"] = df[\"state\"].str.upper().str.strip()"
   ]
  },
  {
   "cell_type": "code",
   "execution_count": null,
   "metadata": {},
   "outputs": [],
   "source": [
    "df[\"price\"] = df[\"price\"].astype(float)\n",
    "df[\"sqft\"] = df[\"price\"].astype(float)\n",
    "df[\"price/sqft\"] = df[\"price/sqft\"].astype(float)\n",
    "\n",
    "df[\"bathrooms\"] = df[\"bathrooms\"].astype(float)\n",
    "df[\"bedrooms\"] = df[\"bedrooms\"].astype(float)\n",
    "\n",
    "df[\"zip\"] = df[\"zip\"].astype(str).str.replace(\".0\",\"\", regex=False)\n",
    "df[\"street_address\"] = df[\"street_address\"].astype(str)\n",
    "df[\"state\"] = df[\"state\"].astype(str)\n",
    "\n",
    "df[\"url\"] = df[\"url\"].astype(str)\n",
    "df[\"img\"] = df[\"img\"].astype(str)\n"
   ]
  }
 ],
 "metadata": {
  "kernelspec": {
   "display_name": "Python 3",
   "language": "python",
   "name": "python3"
  },
  "language_info": {
   "codemirror_mode": {
    "name": "ipython",
    "version": 3
   },
   "file_extension": ".py",
   "mimetype": "text/x-python",
   "name": "python",
   "nbconvert_exporter": "python",
   "pygments_lexer": "ipython3",
   "version": "3.12.3"
  }
 },
 "nbformat": 4,
 "nbformat_minor": 2
}
