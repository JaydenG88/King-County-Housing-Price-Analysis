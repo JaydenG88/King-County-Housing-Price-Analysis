{
 "cells": [
  {
   "cell_type": "code",
   "execution_count": 625,
   "metadata": {},
   "outputs": [],
   "source": [
    "import pandas as pd\n",
    "import numpy as np\n",
    "from scipy.stats.mstats import winsorize\n",
    "\n",
    "df = pd.read_csv(\"data/listings_data.csv\")"
   ]
  },
  {
   "cell_type": "code",
   "execution_count": 626,
   "metadata": {},
   "outputs": [
    {
     "name": "stdout",
     "output_type": "stream",
     "text": [
      "Initial Data Sample:\n",
      "\n",
      "   Square Feet   Price  Price/Sqft      Zip    City State      Street Address  \\\n",
      "0       1140.0  475000  416.666667  98001.0  Algona    WA      707 Celery Ave   \n",
      "1       1310.0  470000  358.778626  98001.0  Algona    WA         512 Main St   \n",
      "2       1680.0  500000  297.619048  98001.0  Algona    WA       221 2nd Ave N   \n",
      "3       1240.0  525000  423.387097  98001.0  Algona    WA  1036 Algona Blvd N   \n",
      "4          NaN  660000         NaN  98001.0  Algona    WA       515 4th Ave N   \n",
      "\n",
      "   Bedrooms  Bathrooms                                                URL  \\\n",
      "0       3.0        3.0  https://www.redfin.com/WA/Algona/707-Celery-Av...   \n",
      "1       4.0        4.0  https://www.redfin.com/WA/Algona/512-Main-St-9...   \n",
      "2       4.0        4.0  https://www.redfin.com/WA/Algona/221-2nd-Ave-N...   \n",
      "3       4.0        4.0  https://www.redfin.com/WA/Algona/1036-Algona-B...   \n",
      "4       NaN        NaN  https://www.redfin.com/WA/Algona/515-4th-Ave-N...   \n",
      "\n",
      "                                               Image  \n",
      "0  https://ssl.cdn-redfin.com/photo/1/islphoto/29...  \n",
      "1  https://ssl.cdn-redfin.com/photo/1/islphoto/21...  \n",
      "2  https://ssl.cdn-redfin.com/photo/1/islphoto/16...  \n",
      "3  https://ssl.cdn-redfin.com/photo/1/islphoto/65...  \n",
      "4  https://ssl.cdn-redfin.com/photo/1/islphoto/20...  \n"
     ]
    }
   ],
   "source": [
    "print(\"Initial Data Sample:\\n\")\n",
    "print(df.head())"
   ]
  },
  {
   "cell_type": "code",
   "execution_count": 627,
   "metadata": {},
   "outputs": [
    {
     "name": "stdout",
     "output_type": "stream",
     "text": [
      "\n",
      "Dataset Overview:\n",
      "\n",
      "<class 'pandas.core.frame.DataFrame'>\n",
      "RangeIndex: 3151 entries, 0 to 3150\n",
      "Data columns (total 11 columns):\n",
      " #   Column          Non-Null Count  Dtype  \n",
      "---  ------          --------------  -----  \n",
      " 0   Square Feet     2813 non-null   float64\n",
      " 1   Price           3151 non-null   object \n",
      " 2   Price/Sqft      2813 non-null   float64\n",
      " 3   Zip             3149 non-null   float64\n",
      " 4   City            3149 non-null   object \n",
      " 5   State           3149 non-null   object \n",
      " 6   Street Address  3151 non-null   object \n",
      " 7   Bedrooms        2805 non-null   float64\n",
      " 8   Bathrooms       2805 non-null   float64\n",
      " 9   URL             3151 non-null   object \n",
      " 10  Image           3133 non-null   object \n",
      "dtypes: float64(5), object(6)\n",
      "memory usage: 270.9+ KB\n",
      "None\n"
     ]
    }
   ],
   "source": [
    "print(\"\\nDataset Overview:\\n\")\n",
    "print(df.info())"
   ]
  },
  {
   "cell_type": "code",
   "execution_count": 628,
   "metadata": {},
   "outputs": [
    {
     "name": "stdout",
     "output_type": "stream",
     "text": [
      "\n",
      "Descriptive Statistics:\n",
      "\n",
      "        Square Feet   Price/Sqft           Zip     Bedrooms    Bathrooms\n",
      "count   2813.000000  2813.000000   3149.000000  2805.000000  2805.000000\n",
      "mean    2201.772840   526.485800  98057.575421     3.308734     3.308734\n",
      "std     1532.618476   358.979561     71.981342     1.548161     1.548161\n",
      "min      317.000000    18.172727  98001.000000     0.000000     0.000000\n",
      "25%     1248.000000   350.025038  98019.000000     2.000000     2.000000\n",
      "50%     1860.000000   449.640288  98034.000000     3.000000     3.000000\n",
      "75%     2705.000000   592.391304  98072.000000     4.000000     4.000000\n",
      "max    30036.000000  6352.087114  99809.000000    36.000000    36.000000\n"
     ]
    }
   ],
   "source": [
    "print(\"\\nDescriptive Statistics:\\n\")\n",
    "print(df.describe())"
   ]
  },
  {
   "cell_type": "code",
   "execution_count": 629,
   "metadata": {},
   "outputs": [
    {
     "name": "stdout",
     "output_type": "stream",
     "text": [
      "\n",
      "Checking for Missing Values:\n",
      "\n",
      "Square Feet       338\n",
      "Price               0\n",
      "Price/Sqft        338\n",
      "Zip                 2\n",
      "City                2\n",
      "State               2\n",
      "Street Address      0\n",
      "Bedrooms          346\n",
      "Bathrooms         346\n",
      "URL                 0\n",
      "Image              18\n",
      "dtype: int64\n"
     ]
    }
   ],
   "source": [
    "print(\"\\nChecking for Missing Values:\\n\")\n",
    "print(df.isnull().sum())\n"
   ]
  },
  {
   "cell_type": "code",
   "execution_count": 630,
   "metadata": {},
   "outputs": [],
   "source": [
    "string_columns = [\"Zip\", \"Street Address\", \"State\", \"URL\", \"Image\", \"City\"]\n",
    "for cols in string_columns:\n",
    "    df[cols]= df[cols].fillna(\"\")"
   ]
  },
  {
   "cell_type": "code",
   "execution_count": 631,
   "metadata": {},
   "outputs": [],
   "source": [
    "numeric_columns = [\"Price\", \"Square Feet\", \"Bathrooms\", \"Bedrooms\"]\n",
    "for cols in numeric_columns:\n",
    "    df[cols] = df[cols].replace({\"Unknown\": np.nan, 0: np.nan})"
   ]
  },
  {
   "cell_type": "code",
   "execution_count": 632,
   "metadata": {},
   "outputs": [],
   "source": [
    "df = df.dropna(subset=[\"Price\", \"Square Feet\"], how=\"all\")\n",
    "df = df.drop_duplicates()\n"
   ]
  },
  {
   "cell_type": "code",
   "execution_count": 633,
   "metadata": {},
   "outputs": [],
   "source": [
    "for col in numeric_columns:\n",
    "    df[col] = pd.to_numeric(df[col], errors=\"coerce\")"
   ]
  },
  {
   "cell_type": "code",
   "execution_count": 634,
   "metadata": {},
   "outputs": [],
   "source": [
    "for col in string_columns:\n",
    "    df[col] = df[col].astype(str)"
   ]
  },
  {
   "cell_type": "code",
   "execution_count": 635,
   "metadata": {},
   "outputs": [],
   "source": [
    "df[\"City\"] = df[\"City\"].str.title().str.strip()\n",
    "df[\"State\"] = df[\"State\"].str.upper().str.strip()\n",
    "df[\"Zip\"] = df[\"Zip\"].str.replace(\".0\",\"\", regex=False)"
   ]
  },
  {
   "cell_type": "code",
   "execution_count": 636,
   "metadata": {},
   "outputs": [
    {
     "name": "stdout",
     "output_type": "stream",
     "text": [
      "      Square Feet    Price   Price/Sqft    Zip         City State  \\\n",
      "4             NaN   660000          NaN  98001       Algona    WA   \n",
      "5             NaN   110000          NaN  98001       Algona    WA   \n",
      "20         3050.0  1598750   524.180328  98001       Auburn    WA   \n",
      "120        5092.0  1780000   349.567950  98001       Auburn    WA   \n",
      "167        5880.0  2299950   391.147959  98092       Auburn    WA   \n",
      "...           ...      ...          ...    ...          ...   ...   \n",
      "3071       3975.0  5990000  1506.918239  98072  Woodinville    WA   \n",
      "3079       8185.0  5995000   732.437385  98072  Woodinville    WA   \n",
      "3088       4222.0  5399999  1279.014448  98072  Woodinville    WA   \n",
      "3092       4140.0  6900000  1666.666667  98077  Woodinville    WA   \n",
      "3095      11935.0  6350000   532.048597  98077  Woodinville    WA   \n",
      "\n",
      "             Street Address  Bedrooms  Bathrooms  \\\n",
      "4             515 4th Ave N       NaN        NaN   \n",
      "5             318 3rd Ave N       NaN        NaN   \n",
      "20         37242 42nd Ave S       4.0        4.0   \n",
      "120             102 D St SW       9.0        9.0   \n",
      "167   5036 Katherine Ave SE       4.0        4.0   \n",
      "...                     ...       ...        ...   \n",
      "3071         6130 Maltby Rd       4.0        4.0   \n",
      "3079      24321 75th Ave SE       4.0        4.0   \n",
      "3088      23110 75th Ave SE       3.0        3.0   \n",
      "3092      22819 NE 200th St       4.0        4.0   \n",
      "3095     16434 246th Ave NE       6.0        6.0   \n",
      "\n",
      "                                                    URL  \\\n",
      "4     https://www.redfin.com/WA/Algona/515-4th-Ave-N...   \n",
      "5     https://www.redfin.com/WA/Algona/318-3rd-Ave-N...   \n",
      "20    https://www.redfin.com/WA/Auburn/37242-42nd-Av...   \n",
      "120   https://www.redfin.com/WA/Auburn/102-D-St-SW-9...   \n",
      "167   https://www.redfin.com/WA/Auburn/5036-Katherin...   \n",
      "...                                                 ...   \n",
      "3071  https://www.redfin.com/WA/Woodinville/6130-Mal...   \n",
      "3079  https://www.redfin.com/WA/Woodinville/24321-75...   \n",
      "3088  https://www.redfin.com/WA/Woodinville/23110-75...   \n",
      "3092  https://www.redfin.com/WA/Woodinville/22819-NE...   \n",
      "3095  https://www.redfin.com/WA/Woodinville/16434-24...   \n",
      "\n",
      "                                                  Image  Is_Outlier  \n",
      "4     https://ssl.cdn-redfin.com/photo/1/islphoto/20...        True  \n",
      "5     https://ssl.cdn-redfin.com/photo/1/islphoto/47...        True  \n",
      "20    https://ssl.cdn-redfin.com/photo/1/islphoto/31...        True  \n",
      "120   https://ssl.cdn-redfin.com/photo/1/islphoto/05...        True  \n",
      "167   https://ssl.cdn-redfin.com/photo/1/islphoto/96...        True  \n",
      "...                                                 ...         ...  \n",
      "3071  https://ssl.cdn-redfin.com/photo/1/islphoto/64...        True  \n",
      "3079  https://ssl.cdn-redfin.com/photo/1/islphoto/81...        True  \n",
      "3088  https://ssl.cdn-redfin.com/photo/1/islphoto/86...        True  \n",
      "3092  https://ssl.cdn-redfin.com/photo/1/islphoto/15...        True  \n",
      "3095  https://ssl.cdn-redfin.com/photo/1/islphoto/21...        True  \n",
      "\n",
      "[179 rows x 12 columns]\n"
     ]
    }
   ],
   "source": [
    "grouped = df.groupby(\"City\")\n",
    "Q1 = grouped[\"Price\"].transform(lambda x: x.quantile(0.25))\n",
    "Q3 = grouped[\"Price\"].transform(lambda x: x.quantile(0.75))\n",
    "IQR = Q3 - Q1\n",
    "\n",
    "lower_lim = Q1 - 1.5 * IQR\n",
    "upper_lim = Q3 + 1.5 * IQR\n",
    "\n",
    "df[\"Is_Outlier\"] = (df[\"Price\"] < lower_lim) | (df[\"Price\"] > upper_lim)\n",
    "print(df[df[\"Is_Outlier\"]])"
   ]
  },
  {
   "cell_type": "code",
   "execution_count": 637,
   "metadata": {},
   "outputs": [],
   "source": [
    "def winsorize_column(group):\n",
    "    return winsorize(group, limits=(0.05, 0.05))\n",
    "\n",
    "df[\"Price\"] = grouped[\"Price\"].transform(winsorize_column)\n",
    "df[\"Square Feet\"] = grouped[\"Square Feet\"].transform(winsorize_column)\n"
   ]
  },
  {
   "cell_type": "code",
   "execution_count": 638,
   "metadata": {},
   "outputs": [],
   "source": [
    "df[\"Price/Sqft\"] = df[\"Price\"] / df[\"Square Feet\"]"
   ]
  },
  {
   "cell_type": "code",
   "execution_count": 639,
   "metadata": {},
   "outputs": [],
   "source": [
    "bins = [0, 200000, 500000, 1000000, float(\"inf\")]\n",
    "labels = [\"Low\", \"Medium\", \"High\", \"Luxury\"]\n",
    "\n",
    "df[\"Price Category\"] = pd.cut(df['Price'], bins=bins, labels=labels)\n"
   ]
  },
  {
   "cell_type": "code",
   "execution_count": 640,
   "metadata": {},
   "outputs": [],
   "source": [
    "df = df.drop(columns=[\"Is_Outlier\"])"
   ]
  },
  {
   "cell_type": "code",
   "execution_count": 641,
   "metadata": {},
   "outputs": [
    {
     "name": "stdout",
     "output_type": "stream",
     "text": [
      "\n",
      "Final Dataset Overview:\n",
      "<class 'pandas.core.frame.DataFrame'>\n",
      "Index: 2944 entries, 0 to 3150\n",
      "Data columns (total 12 columns):\n",
      " #   Column          Non-Null Count  Dtype   \n",
      "---  ------          --------------  -----   \n",
      " 0   Square Feet     2662 non-null   float64 \n",
      " 1   Price           2944 non-null   int64   \n",
      " 2   Price/Sqft      2662 non-null   float64 \n",
      " 3   Zip             2944 non-null   object  \n",
      " 4   City            2944 non-null   object  \n",
      " 5   State           2944 non-null   object  \n",
      " 6   Street Address  2944 non-null   object  \n",
      " 7   Bedrooms        2622 non-null   float64 \n",
      " 8   Bathrooms       2622 non-null   float64 \n",
      " 9   URL             2944 non-null   object  \n",
      " 10  Image           2944 non-null   object  \n",
      " 11  Price Category  2944 non-null   category\n",
      "dtypes: category(1), float64(4), int64(1), object(6)\n",
      "memory usage: 279.1+ KB\n",
      "None\n"
     ]
    }
   ],
   "source": [
    "print(\"\\nFinal Dataset Overview:\")\n",
    "print(df.info())"
   ]
  },
  {
   "cell_type": "code",
   "execution_count": 642,
   "metadata": {},
   "outputs": [
    {
     "name": "stdout",
     "output_type": "stream",
     "text": [
      "\n",
      "Final Descriptive Statistics:\n",
      "        Square Feet         Price   Price/Sqft     Bedrooms    Bathrooms\n",
      "count   2662.000000  2.944000e+03  2662.000000  2622.000000  2622.000000\n",
      "mean    2233.056349  1.207817e+06   511.794024     3.318078     3.318078\n",
      "std     1472.616958  2.010390e+06   326.123455     1.558074     1.558074\n",
      "min      317.000000  5.000000e+04    45.454545     1.000000     1.000000\n",
      "25%     1250.000000  4.998000e+05   338.500501     2.000000     2.000000\n",
      "50%     1870.000000  7.750000e+05   445.459462     3.000000     3.000000\n",
      "75%     2759.750000  1.274960e+06   577.849779     4.000000     4.000000\n",
      "max    17599.000000  5.800000e+07  5290.322581    36.000000    36.000000\n"
     ]
    }
   ],
   "source": [
    "print(\"\\nFinal Descriptive Statistics:\")\n",
    "print(df.describe())"
   ]
  },
  {
   "cell_type": "code",
   "execution_count": 643,
   "metadata": {},
   "outputs": [
    {
     "name": "stdout",
     "output_type": "stream",
     "text": [
      "\n",
      "Unique Values in Categorical Columns:\n",
      "\n",
      "City unique values:\n",
      "City\n",
      "Kent                257\n",
      "Auburn              251\n",
      "Renton              226\n",
      "Bellevue            212\n",
      "Kirkland            201\n",
      "Federal Way         193\n",
      "Bothell             187\n",
      "Redmond             115\n",
      "Woodinville         100\n",
      "Shoreline            98\n",
      "Issaquah             94\n",
      "Burien               77\n",
      "Des Moines           70\n",
      "Black Diamond        66\n",
      "North Bend           64\n",
      "Carnation            62\n",
      "Duvall               61\n",
      "Maple Valley         54\n",
      "Enumclaw             54\n",
      "Sammamish            54\n",
      "Seattle              51\n",
      "Seatac               49\n",
      "Kenmore              47\n",
      "Covington            39\n",
      "Tukwila              39\n",
      "Mercer Island        38\n",
      "Newcastle            31\n",
      "Snoqualmie Pass      29\n",
      "Snoqualmie           18\n",
      "Normandy Park        17\n",
      "Lake Forest Park     16\n",
      "Medina               15\n",
      "Milton                8\n",
      "Tacoma                7\n",
      "Algona                6\n",
      "Clyde Hill            6\n",
      "Greenwater            6\n",
      "Yarrow Point          5\n",
      "Pacific               5\n",
      "Hunts Point           4\n",
      "Easton                3\n",
      "Mill Creek            3\n",
      "Edgewood              2\n",
      "                      2\n",
      "Preston               1\n",
      "Skykomish             1\n",
      "Name: count, dtype: int64\n",
      "\n",
      "State unique values:\n",
      "State\n",
      "WA    2942\n",
      "         2\n",
      "Name: count, dtype: int64\n",
      "\n",
      "Price Category unique values:\n",
      "Price Category\n",
      "High      1173\n",
      "Luxury    1011\n",
      "Medium     599\n",
      "Low        161\n",
      "Name: count, dtype: int64\n"
     ]
    }
   ],
   "source": [
    "print(\"\\nUnique Values in Categorical Columns:\")\n",
    "for col in ['City', 'State', 'Price Category']:\n",
    "    print(f\"\\n{col} unique values:\")\n",
    "    print(df[col].value_counts())"
   ]
  },
  {
   "cell_type": "code",
   "execution_count": 644,
   "metadata": {},
   "outputs": [
    {
     "name": "stdout",
     "output_type": "stream",
     "text": [
      "\n",
      "Remaining Missing Values:\n",
      "Square Feet       282\n",
      "Price               0\n",
      "Price/Sqft        282\n",
      "Zip                 0\n",
      "City                0\n",
      "State               0\n",
      "Street Address      0\n",
      "Bedrooms          322\n",
      "Bathrooms         322\n",
      "URL                 0\n",
      "Image               0\n",
      "Price Category      0\n",
      "dtype: int64\n"
     ]
    }
   ],
   "source": [
    "print(\"\\nRemaining Missing Values:\")\n",
    "print(df.isnull().sum())"
   ]
  },
  {
   "cell_type": "code",
   "execution_count": 645,
   "metadata": {},
   "outputs": [
    {
     "name": "stdout",
     "output_type": "stream",
     "text": [
      "\n",
      "Cleaned dataset saved successfully!\n"
     ]
    }
   ],
   "source": [
    "df.to_csv(\"./Data/cleaned_listings_data.csv\", index=False)\n",
    "print(\"\\nCleaned dataset saved successfully!\")"
   ]
  }
 ],
 "metadata": {
  "kernelspec": {
   "display_name": "Python 3",
   "language": "python",
   "name": "python3"
  },
  "language_info": {
   "codemirror_mode": {
    "name": "ipython",
    "version": 3
   },
   "file_extension": ".py",
   "mimetype": "text/x-python",
   "name": "python",
   "nbconvert_exporter": "python",
   "pygments_lexer": "ipython3",
   "version": "3.12.3"
  }
 },
 "nbformat": 4,
 "nbformat_minor": 2
}
