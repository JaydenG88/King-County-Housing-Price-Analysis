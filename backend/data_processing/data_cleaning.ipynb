{
 "cells": [
  {
   "cell_type": "code",
   "execution_count": null,
   "metadata": {},
   "outputs": [],
   "source": [
    "import pandas as pd\n",
    "import numpy as np\n",
    "from scipy.stats.mstats import winsorize\n",
    "import os\n",
    "\n",
    "df = pd.read_csv(os.path.join('..', 'data', 'raw_listings_data.csv'))\n"
   ]
  },
  {
   "cell_type": "code",
   "execution_count": null,
   "metadata": {},
   "outputs": [
    {
     "name": "stdout",
     "output_type": "stream",
     "text": [
      "Initial Data Sample:\n",
      "\n",
      "   Square Feet   Price      Zip    City State      Street Address  Bedrooms  \\\n",
      "0       1140.0  473000  98001.0  Algona    WA      707 Celery Ave       3.0   \n",
      "1       1310.0  470000  98001.0  Algona    WA         512 Main St       4.0   \n",
      "2       1680.0  500000  98001.0  Algona    WA       221 2nd Ave N       4.0   \n",
      "3       1240.0  525000  98001.0  Algona    WA  1036 Algona Blvd N       4.0   \n",
      "4          NaN  660000  98001.0  Algona    WA       515 4th Ave N       NaN   \n",
      "\n",
      "   Bathrooms                                                URL  \\\n",
      "0        3.0  https://www.redfin.com/WA/Algona/707-Celery-Av...   \n",
      "1        4.0  https://www.redfin.com/WA/Algona/512-Main-St-9...   \n",
      "2        4.0  https://www.redfin.com/WA/Algona/221-2nd-Ave-N...   \n",
      "3        4.0  https://www.redfin.com/WA/Algona/1036-Algona-B...   \n",
      "4        NaN  https://www.redfin.com/WA/Algona/515-4th-Ave-N...   \n",
      "\n",
      "                                               Image  \n",
      "0  https://ssl.cdn-redfin.com/photo/1/islphoto/29...  \n",
      "1  https://ssl.cdn-redfin.com/photo/1/islphoto/21...  \n",
      "2  https://ssl.cdn-redfin.com/photo/1/islphoto/16...  \n",
      "3  https://ssl.cdn-redfin.com/photo/1/islphoto/65...  \n",
      "4  https://ssl.cdn-redfin.com/photo/1/islphoto/20...  \n"
     ]
    }
   ],
   "source": [
    "print(\"Initial Data Sample:\\n\")\n",
    "print(df.head())"
   ]
  },
  {
   "cell_type": "code",
   "execution_count": null,
   "metadata": {},
   "outputs": [
    {
     "name": "stdout",
     "output_type": "stream",
     "text": [
      "\n",
      "Dataset Overview:\n",
      "\n",
      "<class 'pandas.core.frame.DataFrame'>\n",
      "RangeIndex: 2997 entries, 0 to 2996\n",
      "Data columns (total 10 columns):\n",
      " #   Column          Non-Null Count  Dtype  \n",
      "---  ------          --------------  -----  \n",
      " 0   Square Feet     2654 non-null   float64\n",
      " 1   Price           2997 non-null   object \n",
      " 2   Zip             2995 non-null   float64\n",
      " 3   City            2995 non-null   object \n",
      " 4   State           2995 non-null   object \n",
      " 5   Street Address  2997 non-null   object \n",
      " 6   Bedrooms        2646 non-null   float64\n",
      " 7   Bathrooms       2646 non-null   float64\n",
      " 8   URL             2997 non-null   object \n",
      " 9   Image           2979 non-null   object \n",
      "dtypes: float64(4), object(6)\n",
      "memory usage: 234.3+ KB\n",
      "None\n"
     ]
    }
   ],
   "source": [
    "print(\"\\nDataset Overview:\\n\")\n",
    "print(df.info())"
   ]
  },
  {
   "cell_type": "code",
   "execution_count": null,
   "metadata": {},
   "outputs": [
    {
     "name": "stdout",
     "output_type": "stream",
     "text": [
      "\n",
      "Descriptive Statistics:\n",
      "\n",
      "        Square Feet           Zip     Bedrooms    Bathrooms\n",
      "count   2654.000000   2995.000000  2646.000000  2646.000000\n",
      "mean    2212.238885  98057.090150     3.309902     3.309902\n",
      "std     1587.717834     72.132592     1.559153     1.559153\n",
      "min      317.000000  98001.000000     0.000000     0.000000\n",
      "25%     1248.000000  98019.000000     2.000000     2.000000\n",
      "50%     1870.000000  98034.000000     3.000000     3.000000\n",
      "75%     2703.750000  98068.000000     4.000000     4.000000\n",
      "max    30036.000000  99809.000000    36.000000    36.000000\n"
     ]
    }
   ],
   "source": [
    "print(\"\\nDescriptive Statistics:\\n\")\n",
    "print(df.describe())"
   ]
  },
  {
   "cell_type": "code",
   "execution_count": null,
   "metadata": {},
   "outputs": [
    {
     "name": "stdout",
     "output_type": "stream",
     "text": [
      "\n",
      "Checking for Missing Values:\n",
      "\n",
      "Square Feet       343\n",
      "Price               0\n",
      "Zip                 2\n",
      "City                2\n",
      "State               2\n",
      "Street Address      0\n",
      "Bedrooms          351\n",
      "Bathrooms         351\n",
      "URL                 0\n",
      "Image              18\n",
      "dtype: int64\n"
     ]
    }
   ],
   "source": [
    "print(\"\\nChecking for Missing Values:\\n\")\n",
    "print(df.isnull().sum())\n"
   ]
  },
  {
   "cell_type": "code",
   "execution_count": null,
   "metadata": {},
   "outputs": [],
   "source": [
    "string_columns = [\"Zip\", \"Street Address\", \"State\", \"URL\", \"Image\", \"City\"]\n",
    "for cols in string_columns:\n",
    "    df[cols]= df[cols].fillna(\"\")"
   ]
  },
  {
   "cell_type": "code",
   "execution_count": null,
   "metadata": {},
   "outputs": [],
   "source": [
    "numeric_columns = [\"Price\", \"Square Feet\", \"Bathrooms\", \"Bedrooms\"]\n",
    "for cols in numeric_columns:\n",
    "    df[cols] = df[cols].replace({\"Unknown\": np.nan, 0: np.nan})"
   ]
  },
  {
   "cell_type": "code",
   "execution_count": null,
   "metadata": {},
   "outputs": [
    {
     "name": "stdout",
     "output_type": "stream",
     "text": [
      "      Square Feet     Price      Zip          City State  \\\n",
      "0          1140.0    473000  98001.0        Algona    WA   \n",
      "1          1310.0    470000  98001.0        Algona    WA   \n",
      "2          1680.0    500000  98001.0        Algona    WA   \n",
      "3          1240.0    525000  98001.0        Algona    WA   \n",
      "6           972.0    369000  98092.0        Auburn    WA   \n",
      "...           ...       ...      ...           ...   ...   \n",
      "2984       5255.0   2950000  98072.0   Woodinville    WA   \n",
      "2993       5200.0   5795000  98004.0  Yarrow Point    WA   \n",
      "2994       7465.0  15750000  98004.0  Yarrow Point    WA   \n",
      "2995       7830.0   8650000  98004.0  Yarrow Point    WA   \n",
      "2996       6240.0  17288000  98004.0  Yarrow Point    WA   \n",
      "\n",
      "                  Street Address  Bedrooms  Bathrooms  \\\n",
      "0                 707 Celery Ave       3.0        3.0   \n",
      "1                    512 Main St       4.0        4.0   \n",
      "2                  221 2nd Ave N       4.0        4.0   \n",
      "3             1036 Algona Blvd N       4.0        4.0   \n",
      "6     6331 Isaac Ave SE Unit D16       2.0        2.0   \n",
      "...                          ...       ...        ...   \n",
      "2984           15335 166th Pl NE       4.0        4.0   \n",
      "2993            4229 95th Ave NE       5.0        5.0   \n",
      "2994             9015 NE 47th St       5.0        5.0   \n",
      "2995            4626 95th Ave NE       5.0        5.0   \n",
      "2996            4644 95th Ave NE       4.0        4.0   \n",
      "\n",
      "                                                    URL  \\\n",
      "0     https://www.redfin.com/WA/Algona/707-Celery-Av...   \n",
      "1     https://www.redfin.com/WA/Algona/512-Main-St-9...   \n",
      "2     https://www.redfin.com/WA/Algona/221-2nd-Ave-N...   \n",
      "3     https://www.redfin.com/WA/Algona/1036-Algona-B...   \n",
      "6     https://www.redfin.com/WA/Auburn/6331-Isaac-Av...   \n",
      "...                                                 ...   \n",
      "2984  https://www.redfin.com/WA/Woodinville/15335-16...   \n",
      "2993  https://www.redfin.com/WA/Bellevue/4229-95th-A...   \n",
      "2994  https://www.redfin.com/WA/Yarrow-Point/9015-NE...   \n",
      "2995  https://www.redfin.com/WA/Bellevue/4626-95th-A...   \n",
      "2996  https://www.redfin.com/WA/Bellevue/4644-95th-A...   \n",
      "\n",
      "                                                  Image  \n",
      "0     https://ssl.cdn-redfin.com/photo/1/islphoto/29...  \n",
      "1     https://ssl.cdn-redfin.com/photo/1/islphoto/21...  \n",
      "2     https://ssl.cdn-redfin.com/photo/1/islphoto/16...  \n",
      "3     https://ssl.cdn-redfin.com/photo/1/islphoto/65...  \n",
      "6     https://ssl.cdn-redfin.com/photo/1/islphoto/86...  \n",
      "...                                                 ...  \n",
      "2984  https://ssl.cdn-redfin.com/photo/1/islphoto/52...  \n",
      "2993  https://ssl.cdn-redfin.com/photo/1/islphoto/27...  \n",
      "2994  https://ssl.cdn-redfin.com/photo/1/islphoto/38...  \n",
      "2995  https://ssl.cdn-redfin.com/photo/1/islphoto/70...  \n",
      "2996  https://ssl.cdn-redfin.com/photo/1/islphoto/58...  \n",
      "\n",
      "[2486 rows x 10 columns]\n"
     ]
    }
   ],
   "source": [
    "df = df.dropna(subset=[\"Price\", \"Square Feet\"], how=\"any\")\n",
    "df = df.drop_duplicates()\n",
    "print(df)"
   ]
  },
  {
   "cell_type": "code",
   "execution_count": null,
   "metadata": {},
   "outputs": [],
   "source": [
    "for col in numeric_columns:\n",
    "    df[col] = pd.to_numeric(df[col], errors=\"coerce\")"
   ]
  },
  {
   "cell_type": "code",
   "execution_count": null,
   "metadata": {},
   "outputs": [],
   "source": [
    "for col in string_columns:\n",
    "    df[col] = df[col].astype(str)"
   ]
  },
  {
   "cell_type": "code",
   "execution_count": null,
   "metadata": {},
   "outputs": [],
   "source": [
    "df[\"City\"] = df[\"City\"].str.title().str.strip()\n",
    "df[\"State\"] = df[\"State\"].str.upper().str.strip()\n",
    "df[\"Zip\"] = df[\"Zip\"].str.replace(\".0\",\"\", regex=False)"
   ]
  },
  {
   "cell_type": "code",
   "execution_count": null,
   "metadata": {},
   "outputs": [
    {
     "name": "stdout",
     "output_type": "stream",
     "text": [
      "      Square Feet    Price    Zip         City State         Street Address  \\\n",
      "25         3050.0  1598750  98001       Auburn    WA       37242 42nd Ave S   \n",
      "117        5092.0  1780000  98001       Auburn    WA            102 D St SW   \n",
      "163        5880.0  2299950  98092       Auburn    WA  5036 Katherine Ave SE   \n",
      "179        3858.0  1490000  98092       Auburn    WA      12673 SE 287th Ct   \n",
      "181        6407.0  1895000  98092       Auburn    WA      33416 135th Pl SE   \n",
      "...           ...      ...    ...          ...   ...                    ...   \n",
      "2866       7308.0  2075000  98188      Tukwila    WA       15430 40th Ave S   \n",
      "2927       3975.0  5990000  98072  Woodinville    WA         6130 Maltby Rd   \n",
      "2934       8185.0  5995000  98072  Woodinville    WA      24321 75th Ave SE   \n",
      "2945       4140.0  6900000  98077  Woodinville    WA      22819 NE 200th St   \n",
      "2948      11935.0  6350000  98077  Woodinville    WA     16434 246th Ave NE   \n",
      "\n",
      "      Bedrooms  Bathrooms                                                URL  \\\n",
      "25         4.0        4.0  https://www.redfin.com/WA/Auburn/37242-42nd-Av...   \n",
      "117        9.0        9.0  https://www.redfin.com/WA/Auburn/102-D-St-SW-9...   \n",
      "163        4.0        4.0  https://www.redfin.com/WA/Auburn/5036-Katherin...   \n",
      "179        4.0        4.0  https://www.redfin.com/WA/Auburn/12673-SE-287t...   \n",
      "181        5.0        5.0  https://www.redfin.com/WA/Auburn/33416-135th-P...   \n",
      "...        ...        ...                                                ...   \n",
      "2866      16.0       16.0  https://www.redfin.com/WA/Tukwila/15430-40th-A...   \n",
      "2927       4.0        4.0  https://www.redfin.com/WA/Woodinville/6130-Mal...   \n",
      "2934       4.0        4.0  https://www.redfin.com/WA/Woodinville/24321-75...   \n",
      "2945       4.0        4.0  https://www.redfin.com/WA/Woodinville/22819-NE...   \n",
      "2948       6.0        6.0  https://www.redfin.com/WA/Woodinville/16434-24...   \n",
      "\n",
      "                                                  Image  Is_Outlier  \n",
      "25    https://ssl.cdn-redfin.com/photo/1/islphoto/31...        True  \n",
      "117   https://ssl.cdn-redfin.com/photo/1/islphoto/05...        True  \n",
      "163   https://ssl.cdn-redfin.com/photo/1/islphoto/96...        True  \n",
      "179   https://ssl.cdn-redfin.com/system_files/media/...        True  \n",
      "181   https://ssl.cdn-redfin.com/photo/1/islphoto/02...        True  \n",
      "...                                                 ...         ...  \n",
      "2866  https://ssl.cdn-redfin.com/photo/1/islphoto/87...        True  \n",
      "2927  https://ssl.cdn-redfin.com/photo/1/islphoto/64...        True  \n",
      "2934  https://ssl.cdn-redfin.com/photo/1/islphoto/81...        True  \n",
      "2945  https://ssl.cdn-redfin.com/photo/1/islphoto/15...        True  \n",
      "2948  https://ssl.cdn-redfin.com/photo/1/islphoto/21...        True  \n",
      "\n",
      "[150 rows x 11 columns]\n"
     ]
    }
   ],
   "source": [
    "grouped = df.groupby(\"City\")\n",
    "Q1 = grouped[\"Price\"].transform(lambda x: x.quantile(0.25))\n",
    "Q3 = grouped[\"Price\"].transform(lambda x: x.quantile(0.75))\n",
    "IQR = Q3 - Q1\n",
    "\n",
    "lower_lim = Q1 - 1.5 * IQR\n",
    "upper_lim = Q3 + 1.5 * IQR\n",
    "\n",
    "df[\"Is_Outlier\"] = (df[\"Price\"] < lower_lim) | (df[\"Price\"] > upper_lim)\n",
    "print(df[df[\"Is_Outlier\"]])"
   ]
  },
  {
   "cell_type": "code",
   "execution_count": null,
   "metadata": {},
   "outputs": [],
   "source": [
    "def winsorize_column(group):\n",
    "    return winsorize(group, limits=(0.05, 0.05))\n",
    "\n",
    "df[\"Price\"] = grouped[\"Price\"].transform(winsorize_column)\n",
    "df[\"Square Feet\"] = grouped[\"Square Feet\"].transform(winsorize_column)\n"
   ]
  },
  {
   "cell_type": "code",
   "execution_count": null,
   "metadata": {},
   "outputs": [],
   "source": [
    "df[\"Price/Sqft\"] = df[\"Price\"] / df[\"Square Feet\"]"
   ]
  },
  {
   "cell_type": "code",
   "execution_count": null,
   "metadata": {},
   "outputs": [],
   "source": [
    "bins = df['Price'].quantile([0, 0.25, 0.5, 0.75, 1.0])\n",
    "\n",
    "labels = [\"Low\", \"Medium-low\", \"Medium-High\", \"High\"]\n",
    "\n",
    "df[\"Price Category\"] = pd.cut(df[\"Price\"], bins=bins, labels=labels, include_lowest=True)\n",
    "\n"
   ]
  },
  {
   "cell_type": "code",
   "execution_count": null,
   "metadata": {},
   "outputs": [],
   "source": [
    "df = df.drop(columns=[\"Is_Outlier\"])"
   ]
  },
  {
   "cell_type": "code",
   "execution_count": null,
   "metadata": {},
   "outputs": [
    {
     "name": "stdout",
     "output_type": "stream",
     "text": [
      "\n",
      "Final Dataset Overview:\n",
      "<class 'pandas.core.frame.DataFrame'>\n",
      "Index: 2486 entries, 0 to 2996\n",
      "Data columns (total 12 columns):\n",
      " #   Column          Non-Null Count  Dtype   \n",
      "---  ------          --------------  -----   \n",
      " 0   Square Feet     2486 non-null   float64 \n",
      " 1   Price           2486 non-null   int64   \n",
      " 2   Zip             2486 non-null   object  \n",
      " 3   City            2486 non-null   object  \n",
      " 4   State           2486 non-null   object  \n",
      " 5   Street Address  2486 non-null   object  \n",
      " 6   Bedrooms        2466 non-null   float64 \n",
      " 7   Bathrooms       2466 non-null   float64 \n",
      " 8   URL             2486 non-null   object  \n",
      " 9   Image           2486 non-null   object  \n",
      " 10  Price/Sqft      2486 non-null   float64 \n",
      " 11  Price Category  2486 non-null   category\n",
      "dtypes: category(1), float64(4), int64(1), object(6)\n",
      "memory usage: 235.7+ KB\n",
      "None\n"
     ]
    }
   ],
   "source": [
    "print(\"\\nFinal Dataset Overview:\")\n",
    "print(df.info())"
   ]
  },
  {
   "cell_type": "code",
   "execution_count": null,
   "metadata": {},
   "outputs": [
    {
     "name": "stdout",
     "output_type": "stream",
     "text": [
      "\n",
      "Final Descriptive Statistics:\n",
      "        Square Feet         Price     Bedrooms    Bathrooms   Price/Sqft\n",
      "count   2486.000000  2.486000e+03  2466.000000  2466.000000  2486.000000\n",
      "mean    2156.715205  1.245129e+06     3.319140     3.319140   518.890508\n",
      "std     1276.025636  2.085125e+06     1.568948     1.568948   318.028116\n",
      "min      317.000000  5.000000e+04     1.000000     1.000000    45.454545\n",
      "25%     1248.000000  5.496000e+05     2.000000     2.000000   345.086092\n",
      "50%     1870.000000  7.999990e+05     3.000000     3.000000   450.650639\n",
      "75%     2729.000000  1.299000e+06     4.000000     4.000000   587.810435\n",
      "max    17599.000000  5.800000e+07    36.000000    36.000000  5290.322581\n"
     ]
    }
   ],
   "source": [
    "print(\"\\nFinal Descriptive Statistics:\")\n",
    "print(df.describe())"
   ]
  },
  {
   "cell_type": "code",
   "execution_count": null,
   "metadata": {},
   "outputs": [
    {
     "name": "stdout",
     "output_type": "stream",
     "text": [
      "\n",
      "Unique Values in Categorical Columns:\n",
      "\n",
      "City unique values:\n",
      "City\n",
      "Auburn              217\n",
      "Kent                215\n",
      "Kirkland            190\n",
      "Bellevue            187\n",
      "Renton              186\n",
      "Federal Way         166\n",
      "Bothell             164\n",
      "Redmond              99\n",
      "Woodinville          82\n",
      "Shoreline            78\n",
      "Issaquah             76\n",
      "Black Diamond        62\n",
      "Des Moines           61\n",
      "Burien               61\n",
      "Carnation            56\n",
      "Duvall               56\n",
      "North Bend           55\n",
      "Kenmore              44\n",
      "Seatac               42\n",
      "Enumclaw             42\n",
      "Sammamish            41\n",
      "Maple Valley         41\n",
      "Seattle              40\n",
      "Tukwila              30\n",
      "Covington            30\n",
      "Mercer Island        26\n",
      "Newcastle            25\n",
      "Snoqualmie Pass      16\n",
      "Normandy Park        15\n",
      "Lake Forest Park     14\n",
      "Medina               12\n",
      "Snoqualmie           11\n",
      "Tacoma                7\n",
      "Milton                6\n",
      "Pacific               5\n",
      "Yarrow Point          5\n",
      "Greenwater            5\n",
      "Algona                4\n",
      "Hunts Point           4\n",
      "Clyde Hill            2\n",
      "Mill Creek            2\n",
      "Easton                2\n",
      "Edgewood              1\n",
      "Preston               1\n",
      "Edmonds               1\n",
      "Skykomish             1\n",
      "Name: count, dtype: int64\n",
      "\n",
      "State unique values:\n",
      "State\n",
      "WA    2486\n",
      "Name: count, dtype: int64\n",
      "\n",
      "Price Category unique values:\n",
      "Price Category\n",
      "Medium-High    625\n",
      "Low            622\n",
      "Medium-low     621\n",
      "High           618\n",
      "Name: count, dtype: int64\n"
     ]
    }
   ],
   "source": [
    "print(\"\\nUnique Values in Categorical Columns:\")\n",
    "for col in ['City', 'State', 'Price Category']:\n",
    "    print(f\"\\n{col} unique values:\")\n",
    "    print(df[col].value_counts())"
   ]
  },
  {
   "cell_type": "code",
   "execution_count": null,
   "metadata": {},
   "outputs": [
    {
     "name": "stdout",
     "output_type": "stream",
     "text": [
      "\n",
      "Remaining Missing Values:\n",
      "Square Feet        0\n",
      "Price              0\n",
      "Zip                0\n",
      "City               0\n",
      "State              0\n",
      "Street Address     0\n",
      "Bedrooms          20\n",
      "Bathrooms         20\n",
      "URL                0\n",
      "Image              0\n",
      "Price/Sqft         0\n",
      "Price Category     0\n",
      "dtype: int64\n"
     ]
    }
   ],
   "source": [
    "print(\"\\nRemaining Missing Values:\")\n",
    "print(df.isnull().sum())"
   ]
  },
  {
   "cell_type": "code",
   "execution_count": null,
   "metadata": {},
   "outputs": [
    {
     "name": "stdout",
     "output_type": "stream",
     "text": [
      "\n",
      "Cleaned dataset saved successfully!\n"
     ]
    }
   ],
   "source": [
    "df.to_csv(\"./Data/cleaned_listings_data.csv\", index=False)\n",
    "print(\"\\nCleaned dataset saved successfully!\")"
   ]
  }
 ],
 "metadata": {
  "kernelspec": {
   "display_name": "Python 3",
   "language": "python",
   "name": "python3"
  },
  "language_info": {
   "codemirror_mode": {
    "name": "ipython",
    "version": 3
   },
   "file_extension": ".py",
   "mimetype": "text/x-python",
   "name": "python",
   "nbconvert_exporter": "python",
   "pygments_lexer": "ipython3",
   "version": "3.12.3"
  }
 },
 "nbformat": 4,
 "nbformat_minor": 2
}
