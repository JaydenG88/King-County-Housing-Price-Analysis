{
 "cells": [
  {
   "cell_type": "code",
   "execution_count": 82,
   "metadata": {},
   "outputs": [],
   "source": [
    "import pandas as pd\n",
    "import numpy as np\n",
    "\n",
    "df = pd.read_csv(\"data/listings_data.csv\")"
   ]
  },
  {
   "cell_type": "code",
   "execution_count": 87,
   "metadata": {},
   "outputs": [
    {
     "name": "stdout",
     "output_type": "stream",
     "text": [
      "Initial Data Sample:\n",
      "\n",
      "       sqft     price  price/sqft    zip    city state      street_address  \\\n",
      "0  525000.0  525000.0  423.387097  98001  Algona    WA  1036 Algona Blvd N   \n",
      "1  475000.0  475000.0  416.666667  98001  Algona    WA      707 Celery Ave   \n",
      "2  470000.0  470000.0  358.778626  98001  Algona    WA         512 Main St   \n",
      "3  500000.0  500000.0  297.619048  98001  Algona    WA       221 2nd Ave N   \n",
      "4  660000.0  660000.0         NaN  98001  Algona    WA       515 4th Ave N   \n",
      "\n",
      "   bedrooms  bathrooms                                                url  \\\n",
      "0       4.0        4.0  https://www.redfin.com/WA/Algona/1036-Algona-B...   \n",
      "1       3.0        3.0  https://www.redfin.com/WA/Algona/707-Celery-Av...   \n",
      "2       4.0        4.0  https://www.redfin.com/WA/Algona/512-Main-St-9...   \n",
      "3       4.0        4.0  https://www.redfin.com/WA/Algona/221-2nd-Ave-N...   \n",
      "4       NaN        NaN  https://www.redfin.com/WA/Algona/515-4th-Ave-N...   \n",
      "\n",
      "                                                 img  \n",
      "0  https://ssl.cdn-redfin.com/photo/1/islphoto/11...  \n",
      "1  https://ssl.cdn-redfin.com/photo/1/islphoto/29...  \n",
      "2  https://ssl.cdn-redfin.com/photo/1/islphoto/21...  \n",
      "3  https://ssl.cdn-redfin.com/photo/1/islphoto/16...  \n",
      "4  https://ssl.cdn-redfin.com/photo/1/islphoto/20...  \n",
      "\n",
      "Dataset Overview:\n",
      "\n",
      "<class 'pandas.core.frame.DataFrame'>\n",
      "Index: 2887 entries, 0 to 3087\n",
      "Data columns (total 11 columns):\n",
      " #   Column          Non-Null Count  Dtype  \n",
      "---  ------          --------------  -----  \n",
      " 0   sqft            2887 non-null   float64\n",
      " 1   price           2887 non-null   float64\n",
      " 2   price/sqft      2586 non-null   float64\n",
      " 3   zip             2887 non-null   object \n",
      " 4   city            2885 non-null   object \n",
      " 5   state           2887 non-null   object \n",
      " 6   street_address  2887 non-null   object \n",
      " 7   bedrooms        2577 non-null   float64\n",
      " 8   bathrooms       2577 non-null   float64\n",
      " 9   url             2887 non-null   object \n",
      " 10  img             2887 non-null   object \n",
      "dtypes: float64(5), object(6)\n",
      "memory usage: 270.7+ KB\n",
      "None\n",
      "\n",
      "Descriptive Statistics:\n",
      "\n",
      "               sqft         price   price/sqft     bedrooms    bathrooms\n",
      "count  2.887000e+03  2.887000e+03  2586.000000  2577.000000  2577.000000\n",
      "mean   1.293742e+06  1.293742e+06   532.416230     3.303454     3.303454\n",
      "std    2.283768e+06  2.283768e+06   368.159507     1.575322     1.575322\n",
      "min    9.995000e+03  9.995000e+03    18.172727     0.000000     0.000000\n",
      "25%    4.999000e+05  4.999000e+05   351.476629     2.000000     2.000000\n",
      "50%    7.849500e+05  7.849500e+05   452.342675     3.000000     3.000000\n",
      "75%    1.299950e+06  1.299950e+06   594.926875     4.000000     4.000000\n",
      "max    5.800000e+07  5.800000e+07  6352.087114    36.000000    36.000000\n",
      "\n",
      "Checking for Missing Values:\n",
      "\n",
      "sqft                0\n",
      "price               0\n",
      "price/sqft        301\n",
      "zip                 0\n",
      "city                2\n",
      "state               0\n",
      "street_address      0\n",
      "bedrooms          310\n",
      "bathrooms         310\n",
      "url                 0\n",
      "img                 0\n",
      "dtype: int64\n"
     ]
    }
   ],
   "source": [
    "print(\"Initial Data Sample:\\n\")\n",
    "print(df.head())\n",
    "\n",
    "print(\"\\nDataset Overview:\\n\")\n",
    "print(df.info())\n",
    "\n",
    "print(\"\\nDescriptive Statistics:\\n\")\n",
    "print(df.describe())\n",
    "\n",
    "print(\"\\nChecking for Missing Values:\\n\")\n",
    "print(df.isnull().sum())\n"
   ]
  },
  {
   "cell_type": "code",
   "execution_count": 84,
   "metadata": {},
   "outputs": [],
   "source": [
    "df[[\"price\", \"sqft\"]] = df[[\"price\", \"sqft\"]].replace(\"Unknown\", np.nan)\n",
    "df[\"zip\"].fillna(\"\")\n",
    "df = df.dropna(subset=[\"price\", \"sqft\"], how=\"all\")\n",
    "df = df.drop_duplicates()"
   ]
  },
  {
   "cell_type": "code",
   "execution_count": 85,
   "metadata": {},
   "outputs": [],
   "source": [
    "df[\"city\"] = df[\"city\"].str.title().str.strip()\n",
    "df[\"state\"] = df[\"state\"].str.upper().str.strip()"
   ]
  },
  {
   "cell_type": "code",
   "execution_count": null,
   "metadata": {},
   "outputs": [],
   "source": [
    "numeric_columns = [\"price\", \"sqft\", \"price/sqft\", \"bathrooms\", \"bedrooms\"]\n",
    "for col in numeric_columns:\n",
    "    df[col] = pd.to_numeric(df[col], errors=\"coerce\")\n",
    "\n",
    "string_columns = [\"zip\", \"street_address\", \"state\", \"url\", \"img\"]\n",
    "for col in string_columns:\n",
    "    df[col] = df[col].astype(str)\n",
    "    \n",
    "df[\"zip\"] = df[\"zip\"].str.replace(\".0\",\"\", regex=False)\n"
   ]
  }
 ],
 "metadata": {
  "kernelspec": {
   "display_name": "Python 3",
   "language": "python",
   "name": "python3"
  },
  "language_info": {
   "codemirror_mode": {
    "name": "ipython",
    "version": 3
   },
   "file_extension": ".py",
   "mimetype": "text/x-python",
   "name": "python",
   "nbconvert_exporter": "python",
   "pygments_lexer": "ipython3",
   "version": "3.12.3"
  }
 },
 "nbformat": 4,
 "nbformat_minor": 2
}
